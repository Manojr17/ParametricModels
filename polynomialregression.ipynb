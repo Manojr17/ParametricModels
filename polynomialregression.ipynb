{
 "cells": [
  {
   "cell_type": "markdown",
   "id": "f9d11c0f-d6d0-4c17-bb13-75414bb3fd21",
   "metadata": {},
   "source": [
    "# polynomial regression\n"
   ]
  },
  {
   "cell_type": "code",
   "execution_count": null,
   "id": "66a30133-aa4a-4655-b801-892f616cd96f",
   "metadata": {},
   "outputs": [],
   "source": []
  }
 ],
 "metadata": {
  "kernelspec": {
   "display_name": "Python 3 (ipykernel)",
   "language": "python",
   "name": "python3"
  },
  "language_info": {
   "codemirror_mode": {
    "name": "ipython",
    "version": 3
   },
   "file_extension": ".py",
   "mimetype": "text/x-python",
   "name": "python",
   "nbconvert_exporter": "python",
   "pygments_lexer": "ipython3",
   "version": "3.12.7"
  }
 },
 "nbformat": 4,
 "nbformat_minor": 5
}
